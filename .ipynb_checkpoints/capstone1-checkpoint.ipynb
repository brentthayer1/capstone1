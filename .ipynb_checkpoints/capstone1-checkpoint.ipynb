{
 "cells": [
  {
   "cell_type": "code",
   "execution_count": 1,
   "metadata": {},
   "outputs": [],
   "source": [
    "import numpy as np\n",
    "import pandas as pd\n",
    "import matplotlib.pyplot as plt\n",
    "import scipy.stats as stats\n",
    "import capstone1_funcs as cs1"
   ]
  },
  {
   "cell_type": "code",
   "execution_count": null,
   "metadata": {},
   "outputs": [],
   "source": []
  },
  {
   "cell_type": "code",
   "execution_count": 2,
   "metadata": {},
   "outputs": [],
   "source": [
    "df_60 = pd.read_csv('/Volumes/b/Galvanize/DS-RFT4/capstones-RFT4/datasets/music/dataset-of-60s.csv')\n",
    "df_70 = pd.read_csv('/Volumes/b/Galvanize/DS-RFT4/capstones-RFT4/datasets/music/dataset-of-70s.csv')\n",
    "df_80 = pd.read_csv('/Volumes/b/Galvanize/DS-RFT4/capstones-RFT4/datasets/music/dataset-of-80s.csv')\n",
    "df_90 = pd.read_csv('/Volumes/b/Galvanize/DS-RFT4/capstones-RFT4/datasets/music/dataset-of-90s.csv')\n",
    "df_00 = pd.read_csv('/Volumes/b/Galvanize/DS-RFT4/capstones-RFT4/datasets/music/dataset-of-00s.csv')\n",
    "df_10 = pd.read_csv('/Volumes/b/Galvanize/DS-RFT4/capstones-RFT4/datasets/music/dataset-of-10s.csv')\n"
   ]
  },
  {
   "cell_type": "code",
   "execution_count": 3,
   "metadata": {},
   "outputs": [],
   "source": [
    "df_list = [df_60]"
   ]
  },
  {
   "cell_type": "markdown",
   "metadata": {},
   "source": [
    "## Genres"
   ]
  },
  {
   "cell_type": "code",
   "execution_count": 4,
   "metadata": {},
   "outputs": [],
   "source": [
    "genre_d = {\n",
    "            2000: ['21st century classical','acid jazz','acousmatic','acoustic punk','afro psych','afrobeat','alabama indie','albuquerque indie','alternative emo','alternative metalcore','ambient','ambient black metal','ambient worship','american contemporary classical','american post-rock','anarcho-punk','anime latino','anthem emo','athens indie','atmospheric black metal','atmospheric doom','atmospheric post-metal','atmospheric post-rock','atmospheric sludge','austindie','australian alternative rock','australian electropop','australian garage punk','australian indie','australian indie folk','australian metal','australian metalcore','australian singer-songwriter','austrian contemporary classical','autonomous black metal','avant-garde','avant-garde metal','background music','baltimore indie','bay area indie','belgian contemporary classical','bergen indie','big room','black death','black metal','black sludge','black thrash','blackgaze','blues','boston hardcore','boston metal','boston rock','brazilian metal','brazilian thrash metal','brighton indie','british alternative rock','british black metal','british experimental','british folk','british indie rock','british post-rock','british soundtrack','britpop','broadway','broken beat','brooklyn indie','brutal death metal','brutal deathcore','bubble trance','bubblegum pop','buffalo ny metal','calypso','canadian black metal','canadian hardcore','canadian metalcore','canadian post-hardcore','canadian post-rock','canterbury scene','carnatic','carnatic vocal','cello','celtic metal','chaotic hardcore','chicago hardcore','chicago punk','chicago soul','chillstep','chillwave','chinese indie','chinese indie rock','chinese post-rock','christian hardcore','christian hip hop','christian metal','cinematic post-rock','classic bollywood','classic garage rock','classic soul','classic uk pop','classical','classical era','classical mezzo-soprano','cleveland indie','compositional ambient','contemporary classical','cosmic post-rock','crack rock steady','crossover thrash','crust punk','cyber metal','danish metal','danish pop rock','danspunk','dark black metal','dark wave','dayton indie',\"death 'n' roll\",'death metal','deathcore','deathgrind','deep acoustic pop','deep big room','deep classic garage rock','deep dubstep','deep house','deep indian pop','deep melodic death metal','deep new americana','depressive black metal','desi pop','djent','doom metal','downtempo','dream pop','dreamo','dresden indie','drill','drone','drone metal','dutch metal','e6fi','early romantic era','eau claire indie','ebm','electro house','electro-industrial','electrofox','emo punk','epic doom','epicore','ethereal wave','experimental','experimental black metal','experimental pop','experimental rock','faroese pop','fast melodic punk','filmi','finnish death metal','finnish doom metal','finnish metal','finnish psychedelic rock','florida death metal','focus','folk metal','folk punk','frankfurt indie','freak folk','freakbeat','free improvisation','french black metal','french contemporary classical','french death metal','french metal','french post-rock','french shoegaze','funeral doom','future garage','future house','future rock','futurepop','gabba','gaian doom','garage punk','geek rock','german black metal','german contemporary classical','german dance','german metal','german metalcore','german pop','german post-hardcore','german post-rock','german rock','ghazal','glam punk','goregrind','gospel blues','gothenburg metal','gothic doom','gothic metal','gothic symphonic metal','grave wave','greek metal','grindcore','gymcore','hands up','happy hardcore','hard alternative','hardcore','hardcore punk','hardcore techno','hip house','house','hungarian metal','hungarian rock','hurdy-gurdy','indian classical','indian folk','indie emo rock','indie garage rock','indie jazz','indie punk','instrumental post-rock','instrumental rock','irish singer-songwriter','israeli hip hop','italian black metal','italian contemporary classical','italian death metal','italian metal','italian new wave','italian post punk','j-metal','j-poprock','j-rock','jacksonville indie','japanese post-rock','jawaiian','jazz metal','jazz rap','jazztronica','kiwi rock','la indie','laboratorio','latin alternative','latin metal','latin rock','latincore','leicester indie','liverpool indie','louisiana metal','mantra','martial industrial','math rock','mathcore','medieval folk','melbourne indie','melodic black metal','melodic death metal','melodic deathcore','melodic hardcore','melodic metal','melodic metalcore','melodic rap','melodic thrash','merseybeat','metalcore','metropopolis','mexican indie','mexican metal','mexican pop punk','mexican rock','microtonal','midwest emo','milwaukee indie','minimal','modern bollywood','modern folk rock','modern progressive rock','modern ska punk','mollywood','monterrey indie','musique concrete','neo classical metal','neo r&b','neo soul-jazz','neo-classical','neo-psychedelic','neo-synthpop','neo-trad metal','neoclassical','neofolk','neue deutsche harte','new jersey indie','new jersey punk','new wave of thrash metal','new weird america','nintendocore','noise pop','noise rock','nordic folk','nordic post-rock','norwegian black metal','norwegian death metal','norwegian indie','norwegian metal','norwegian rock','novelty','nu gaze','nu jazz','nwobhm','nyhc','nz metal','ohio indie','olympia wa indie','omaha indie','ontario indie','orthodox chant','oslo indie','oulu metal','pagan black metal','perth indie','philly indie','pirate','polish black metal','polish death metal','polish metal','popping','portland indie','portland metal','post-black metal','post-doom metal','post-hardcore','post-punk','post-rock','post-screamo','power-pop punk','progressive black metal','progressive deathcore','progressive doom','progressive electro house','progressive house','progressive metalcore','progressive post-hardcore','progressive sludge','progressive trance','progressive trance house','protopunk','psychedelic doom','psychedelic folk','psychedelic rock','quebec death metal','quebec indie','rave','rebel blues','reggae rock','retro metal','retro soul','rune folk','sacramento indie','san diego indie','sci-fi metal','scorecore','scottish indie','seattle indie','sheffield indie','shimmer pop','shoegaze','ska','ska punk','skramz','slam death metal','slamming deathcore','slavic folk metal','slayer','slovenian indie','slovenian metal','slovenian rock','sludge metal','smooth soul','sound art','soundtrack','southern metal','southern soul','space ambient','space rock','spanish post-rock','spanish progressive rock','steampunk','straight edge','street punk','substep','sufi','swedish black metal','swedish death metal','swedish doom metal','swedish grindcore','swedish indie pop','swedish metal','swedish metalcore','swiss metal','swiss rock','symphonic black metal','symphonic death metal','symphonic metal','symphonic power metal','symphonic rock','tamil pop','tampa indie','technical black metal','technical brutal death metal','technical death metal','technical deathcore','technical groove','technical thrash','tennessee metal','texas punk','theme','tollywood','toronto indie','traditional blues','trance','trancecore','trash rock','twee pop','tzadik','uk doom metal','uk metalcore','uk pop punk','uk post-hardcore','uk post-punk','uplifting trance','usbm','vancouver indie','vancouver metal','vapor trap','vapor twitch','video game music','viking folk','viking metal','vintage french electronic','virginia metal','virginia punk','visual kei','voidgaze','wave','welsh indie','welsh metal','welsh rock','west coast reggae','west virginia metal','wonky','zambian pop','zolo'],\n",
    "            2010: ['21st century classical','abstract beats','acid jazz','afro dancehall','afropop','alabama metal','alternative country','alternative emo','alternative hip hop','alternative roots rock','ambient','ambient black metal','ambient idm','ambient worship','american metalcore','american post-rock','ann arbor indie','anthem emo','anthem worship','anti-folk','art rock','asmr','athens indie','atmosphere','atmospheric black metal','atmospheric doom','atmospheric post-metal','atmospheric post-rock','atmospheric sludge','austindie','australian alternative rock','australian black metal','australian garage punk','australian indie folk','australian metal','australian metalcore','australian post-hardcore','australian post-rock','australian psych','austrian metal','austrian stoner rock','autonomous black metal','avant-garde','avant-garde black metal','avant-garde metal','azontobeats','background music','ballet class','banda','banjo','bass music','bass trip','bboy','bebop','bedroom pop','bedroom soul','belgian black metal','belgian metal','belgian post-rock','bergen indie','bhangra','birmingham metal',\"black 'n' roll\",'black metal','black sludge','black thrash','blackened crust','blackened hardcore','blackgaze','blues','boston hardcore','boston hip hop','boston metal','boston rock','brazilian metal','brighton indie','brisbane indie','british black metal','british contemporary classical','british post-rock','british soundtrack','britpop','broken beat','brutal death metal','brutal deathcore','bubble trance','buffalo ny metal','calming instrumental','calypso','canadian black metal','canadian ccm','canadian electropop','canadian folk','canadian hardcore','canadian metalcore','canadian post-hardcore','canadian post-rock','canadian punk','canadian singer-songwriter','chamber psych','chaotic black metal','chaotic hardcore','charlotte nc indie','charlottesville indie','chicago hardcore','chicago house','chicago indie','chicago punk','chilean metal','chill beats','chillhop','chillstep','chillwave','chinese metal','christian hard rock','christian hardcore','christian hip hop','christian metal','christian uplift','cinematic post-rock','classic garage rock','cleveland indie','comic metal','compositional ambient','contemporary classical','contemporary jazz','contemporary post-bop','contemporary vocal jazz','cool jazz','cosmic black metal','cosmic post-rock','country rock','crossover thrash','crunk','crust punk','cumbia','cyber metal','cyberpunk','danish alternative rock','danish metal','danspunk','dark black metal','dark cabaret','dark jazz','dark trap',\"death 'n' roll\",'death metal','deathcore','deathgrind','deep gothic post-punk','deep indian pop','deep melodic death metal','deep melodic hard rock','deep melodic metalcore','deep new americana','denver indie','depressive black metal','desi hip hop','desi pop','detroit indie','disco','djent','doom metal','downtempo','dream pop','dreamo','dresden indie','drone','drone metal','dub metal','dungeon synth','dutch black metal','dutch pop','dutch r&b','e6fi','easycore','eau claire indie','el paso indie','electric blues','electro dub','electro swing','electronica','emo punk','english indie rock','epic doom','epicore','essex indie','exotica','experimental','experimental hip hop','experimental pop','experimental rock','filmi','filthstep','finnish black metal','finnish death metal','finnish doom metal','finnish metal','finnish psychedelic rock','florida death metal','focus','folk metal','folk punk','footwork','fort worth indie','fourth world','frankfurt indie','freak folk','freestyle','french black metal','french contemporary classical','french death metal','french dub','french indie pop','french metal','french post-rock','french shoegaze','french soundtrack','funeral doom','funk carioca','future funk','future garage','future rock','gabba','gaian doom','german black metal','german contemporary classical','german dance','german indie','german metal','german metalcore','german pop rock','german post-rock','german rock','german soundtrack','german thrash metal','ghanaian hip hop','glitch hop','goregrind','gospel blues','gothenburg metal','gothic metal','grave wave','greek contemporary classical','greek metal','grindcore','grisly death metal','grupera','gymcore','gypsy punk','hamilton on indie','hampton roads indie','hands up','happy hardcore','hard alternative','hard bop','hard house','hardcore','hardcore punk','hardcore techno','hardvapour','heavy alternative','horror synth','hungarian metal','hungarian rock','hyperpop','indian edm','indian indie','indian rock','indiana indie','indie anthem-folk','indie garage rock','indie jazz','indie punk','indie r&b','indie rockism','indie surf','indonesian hip hop','industrial','industrial black metal','industrial metal','industrial rock','indy indie','instrumental math rock','instrumental post-rock','instrumental progressive metal','instrumental rock','instrumental soul','instrumental stoner rock','intelligent dance music','irish indie','irish indie rock','irish metal','italian contemporary classical','italian death metal','italian metal','italian post-rock','italogaze','j-pop','j-rock','japanese chillhop','japanoise','jazz','jazz boom bap','jazz funk','jazz fusion','jazz metal','jazz trumpet','jazztronica','kent indie','la pop','laboratorio','latin metal','lawrence ks indie','liverpool indie','lo-fi','lo-fi beats','louisiana metal','lovecraftian metal','malaysian pop','manchester indie','manitoba indie','math pop','math rock','mathcore','medieval folk','melancholia','melbourne indie','melodic black metal','melodic death metal','melodic deathcore','melodic hardcore','melodic metal','melodic metalcore','melodic power metal','melodic thrash','merengue','metal guitar','metalcore','mexican post-rock','miami metal','middle earth','midwest emo','minimal','minneapolis indie','minneapolis sound','modern blues','modern bollywood','modern funk','modern hard rock','mollywood','moombahton','nashville indie','neo classical metal','neo r&b','neo soul-jazz','neo-classical','neo-crust','neo-pagan','neo-progressive','neo-psychedelic','neo-trad metal','neoclassical','neofolk','neue deutsche harte','new americana','new french touch','new hampshire indie','new weird america','nigerian hip hop','nigerian pop','ninja','nintendocore','noise','noise pop','noise punk','noise rock','nordic post-rock','nordic soundtrack','norteno','north carolina indie','northern irish indie','norwegian alternative rock','norwegian black metal','norwegian hardcore','norwegian indie','norwegian metal','norwegian pop','norwegian rock','nu age','nu disco','nu jazz','nwobhm','nwothm','nz electronic','nz metal','oakland indie','oceania soundtrack','ohio indie','old school thrash','one-person band','oriental metal','orthodox chant','oslo indie','otacore','pagan black metal','pakistani pop','palm desert scene','partyschlager','perth indie','philly indie','phonk','pirate','poetry','polish death metal','polish metal','pop folk','popgaze','popping','portland metal','portuguese death metal','portuguese metal','post-black metal','post-disco','post-doom metal','post-hardcore','post-metal','post-post-hardcore','post-rock','post-screamo','power metal','powerviolence','progressive deathcore','progressive doom','progressive jazz fusion','progressive metal','progressive metalcore','progressive post-hardcore','progressive rock','progressive sludge','progressive trance','psychedelic doom','psychedelic rock','puerto rican pop','punjabi pop','quebec death metal','ranchera','rare groove','reading indie','rebel blues','regional mexican','retro metal','rochester ny indie','romanian metal','roots rock','roots worship','rune folk','russian alternative','russian metal','russian post-rock','sacramento indie','san marcos tx indie','sardinia indie','sci-fi metal','scorecore','scottish metal','screamo','seattle indie','serialism','shoegaze','shred','skramz','slam death metal','slamming deathcore','slavic folk metal','slayer','sleep','slow core','sludge metal','sludgecore','small room','smooth jazz','smooth saxophone','smooth soul','socal pop punk','soul flow','soul jazz','sound art','soundtrack','space age pop','space ambient','space rock','spanish indie pop','spanish metal','spanish pop','spanish post-rock','spanish progressive rock','speed metal','speedcore','st petersburg fl indie','stoner metal','stoner rock','straight edge','substep','sufi','swedish alternative rock','swedish black metal','swedish death metal','swedish doom metal','swedish metal','swedish metalcore','swedish psychedelic rock','swedish stoner rock','swiss indie','swiss metal','symphonic black metal','symphonic death metal','symphonic metal','symphonic power metal','symphonic rock','tamil pop','tampa indie','tassie indie','technical black metal','technical brutal death metal','technical death metal','technical deathcore','technical groove','telugu worship','tennessee metal','thrash metal','thrash-groove metal','toronto indie','traditional blues','trance','trap soul','traprun','trip hop','uk dancehall','uk doom metal','uk hip hop','uk metalcore','uk pop punk','uk post-hardcore','uk post-metal','ukrainian black metal','ukrainian electronic','unblack metal','usbm','vancouver indie','vancouver metal','vapor pop','vapor soul','vaporwave','vegan straight edge','video game music','vienna indie','viking metal','virginia metal','visual kei','voidgaze','voidgrind','washington indie','wave','welsh rock','windsor on indie','wisconsin indie','wonky','york indie'],\n",
    "            1960: ['action rock','afro psych','alternative country','alternative dance','alternative r&b','alternative roots rock','ambient worship','anthem worship','arab groove','art pop','atl hip hop','atl trap','australian blues','australian metal','australian metalcore','avant-garde','baile pop','bass trip','bolero','brazilian boogie','brazilian indie','brazilian psychedelic','brazilian rock','british jazz','calming instrumental','calypso','canadian comedy','canadian folk','canadian psychedelic','cancion melodica','cantautor','canterbury scene','ccm','chanson','chanson paillarde','chicano punk','chillhop','christian music','christian pop','christian uplift','classic italian folk pop','classic swedish pop','classical','contemporary gospel','country blues','cowpunk','dance-punk','deathcore','deep ccm','deep comedy','disney','dutch indie','dutch prog','dutch rock','early reggae','electric bass','ethio-jazz','experimental','experimental rock','focus','folk-pop','folktronica','forro','freak folk','free improvisation','french rock','french soundtrack','funeral doom','funk metal','gaian doom','glam metal','grunge','grupera','halloween','hip pop','indie folk','indie garage rock','indie jazz','indie rock','industrial','industrial rock','instrumental funk','instrumental rock','instrumental surf','italian opera','italian progressive rock','italian soundtrack','jangle pop','jazz double bass','jovem guarda','k-indie','k-pop','k-pop boy group','kc indie','korean pop','krautrock','latin pop','lexington ky indie','library music','lo-fi','lo-fi beats','mambo','melodic metalcore','metalcore','mexican rock-and-roll','military cadence','mpb','munich indie','neo soul','neo-psychedelic','new americana','new rave','new wave','new weird america','no wave','noise pop','nova mpb','nu disco','nueva ola peruana','nyc pop','nz indie','operatic pop','orchestra','peruvian rock','poetry','pop rap','pop romantico','post-punk','post-romantic era','power pop','progressive house','progressive trance house','psychobilly','r&b','ranchera','rap','reggae fusion','retro soul','rock gaucho','rock nacional','roots worship','salsa puertorriquena','samba','saskatchewan indie','scorecore','shimmer pop','show tunes','slam poetry','sleaze rock','sleep','slow core','soundtrack','southern americana','space rock','spanish invasion','spanish new wave','spiritual jazz','spytrack','stomp and holler','swedish pop','swedish prog','tampa indie','tin pan alley','trap','trap queen','vapor soul','vintage french electronic','vintage swedish pop','violao','welsh rock','world worship','worship','wyoming roots','zolo'],\n",
    "            1970: ['acoustic blues','african rock','afro dancehall','afro-funk','alternative emo','ambient','anadolu rock','anthem emo','anthem worship','antideutsche','appalachian folk','argentine indie','argentine rock','atl hip hop','atl trap','avant-garde jazz','axe','azonto','baile pop','banjo','bass house','bedroom pop','berlin school','boogaloo','brazilian boogie','brazilian indie','brazilian psychedelic','brazilian rock','brazilian soul','brega','britpop','broadway','broken beat','bubblegum dance','calming instrumental','canadian garage rock','cantautor','chicago blues','chicago rap','christian rock','classic afrobeat','classic finnish rock','classic j-rock','classic psychedelic rock','classical saxophone','conscious hip hop','contemporary jazz','contemporary vocal jazz','country blues','cyberpunk','dancehall','dark jazz','deathgrass','deep free jazz','deep groove house','deep new wave','delta blues','didgeridoo','dirty south rap','dirty texas rap','diy emo','doom metal','dreamo','drone','drone folk','dutch indie','early reggae','eastern bloc groove','electro house','electro swing','emo','environmental','fingerstyle','flamenco','florida death metal','folktronica','forro','fourth world','free improvisation','free jazz','freestyle','french jazz','french soundtrack','funk carioca','g funk','gangster rap','garage pop','garage psych','garage punk','gbvfi','german blues','german hard rock','german indie','german metal','german punk','glam punk','go-go','gothic rock','groove metal','grupera','gruperas inmortales','gymcore','hardcore','hardcore hip hop','hardcore punk','harmonica blues','hawaiian','healing','idol','idol rock','indian jazz','indie pop rap','indie punk','indonesian rock','industrial','industrial rock','instrumental bluegrass','instrumental surf','italian jazz','italian pop','italian progressive rock','italian soundtrack','j-metal','japanese heavy metal','japanese power metal','japanese psychedelic','jawaiian','jazz drums','jazz organ','jazz vibraphone','jazz violin','jovem guarda','k-pop','k-pop boy group','kawaii metal','kc indie','kingston on indie','kiwi rock','laboratorio','latin alternative','latin jazz','latin metal','library music','liedermacher','lo-fi beats','madchester','mangue bit','meditation','melodic hardcore','melodic metal','mexican rock-and-roll','middle earth','midwest emo','minimal','minimal wave','mod revival','modern hard rock','mpb','neo-progressive','neue deutsche welle','new jersey indie','new mexico music','noise pop','noise rock','norwegian jazz','nova canco','nova mpb','nu gaze','nu jazz','nueva cancion','nueva ola peruana','oi','old school dancehall','old-time','ontario indie','organic ambient','outsider','pagode','peruvian rock','philly rap','piedmont blues','polish jazz','pony','pornogrind','post-hardcore','post-post-hardcore','post-screamo','power metal','power thrash','progressive post-hardcore','psychedelic doom','psychedelic folk rock','ranchera','rebel blues','red dirt','retro metal','rio de la plata','riot grrrl','rock en espanol','rock gaucho','rock nacional','romanian trap','roots americana','russian punk','samba','scottish new wave','sevillanas','shibuya-kei','shimmer pop','show tunes','sitar','ska punk','ska revival','slam poetry','sleep','slow core','sludge metal','space age pop','spanish invasion','spanish new wave','spanish pop','spanish prog','speed metal','spiritual jazz','spytrack','stoner metal','straight edge','stride','surf music','swedish jazz','swedish prog','synth punk','trova','turkish jazz','twee pop','uk contemporary jazz','uk post-punk','uk reggae','vegan straight edge','velha guarda','vintage italian soundtrack','violao','violin','visual kei','west coast rap','west coast trap','white noise','world fusion','yoga','zeuhl'],\n",
    "            1980: ['21st century classical','acid house','acoustic blues','acoustic punk','afro-funk','afrobeat','afropop','alternative hip hop','ambient','ambient industrial','ambient techno','american shoegaze','anadolu rock','anthem worship','antideutsche','argentine indie','argentine rock','asheville indie','asmr','athens indie','australian indie','australian post-punk','austrian contemporary classical','bass house','bassline','bboy','berlin school','bible','big band','black metal','black thrash','bluegrass','bluegrass gospel','bolero','bossa nova','brazilian boogie','bristol indie','british experimental','british modern classical','canadian contemporary r&b','canadian rock','cancion melodica','cantautor','celtic','chanson','chicago rap','chicago soul','chicano rap','christchurch indie','christian hip hop','christian trap','chutney','classic afrobeat','classic bollywood','classic indo pop','classic israeli pop','classic italian pop','classic psychedelic rock','classic soundtrack','classic swedish pop','comic metal','contemporary classical','contemporary country','contemporary vocal jazz','copla','corrosion','country gospel','crossover thrash','danish metal','danish pop rock','danish singer-songwriter','dark post-punk','death metal','deathcore','deep big room','deep dubstep','deep euro house','deep free jazz','deep freestyle','deep gothic post-punk','deep groove house','deep melodic euro house','deep new americana','doom metal','dortmund indie','drone','drum and bass','dunedin indie','dunedin sound','e6fi','early modern classical','eastern bloc groove','ebm','electro-industrial','electronic rock','english indie rock','environmental','epicore','ethereal wave','etherpop','ethnotronica','flamenco guitar','folk punk','folktronica','forro','fourth world','freak folk','freakbeat','free improvisation','french indie pop','french indietronica','french pop','french post-punk','french rock','french soundtrack','garage psych','garage punk','garage punk blues','gbvfi','geek rock','german indie','german punk','ghazal','go-go','gospel','gothic post-punk','grave wave','groove metal','grunge','hard alternative','hard bop','hardcore punk','house','hyperpop','icelandic pop','idol rock','indie psychedelic rock','indonesian indie','indonesian pop','industrial','industrial metal','intelligent dance music','israeli singer-songwriter','italian pop','j-poprock','japanese folk','japanese psychedelic','japanese singer-songwriter','japanese soundtrack','jazz drums','jazz rap','jazz trio','jazz vibraphone','jump up','jungle','kindie rock','kingston on indie','kiwi rock','krautrock','laboratorio','latin alternative','latin gothic metal','latin metal','latin rock','liedermacher','liquid funk','mandolin','mangue bit','martial industrial','math rock','medway sound','melodic metal','melodic metalcore','melodic thrash','metal guitar','metalcore','mexican pop','mexican rock','mezmur','miami hip hop','midwest emo','minimal','minimal wave','mizrahi','mpb','neo-psychedelic','neo-synthpop','neo-trad metal','neoclassical','neofolk','new beat','nica','noise rock','nu gaze','nwothm','nyc pop','nz indie','okc indie','old school dancehall','old-time','olympia wa indie','ontario indie','orlando indie','outsider','oxford indie','p funk','pagode','paracana','pirate','pop edm','pop romantico','post-disco soul','post-hardcore','power metal','power thrash','progressive bluegrass','progressive metal','proto-rap','psychedelic doom','psychedelic punk','psychobilly','punk blues','ranchera','rap metal','rave','retro electro','retro metal','rio de la plata','riot grrrl','rock en espanol','rock nacional','rock quebecois','rock urbano mexicano','samba','scorecore','scottish indie','screamo','shiver pop','shoegaze','shred','skramz','slam poetry','slayer','slow core','sludge metal','smooth soul','song poem','soundtrack','space rock','spanish metal','spanish new wave','spanish pop','spanish rock','spiritual jazz','spytrack','stoner metal','stoner rock','stride','surf music','swiss metal','tech house','techno','thrash core','toronto indie','traditional blues','traditional british folk','trap soul','trash rock','trova','truck-driving country','tucson indie','turkish jazz','turkish modern jazz','turkish psych','turntablism','twee pop','uk contemporary jazz','uk doom metal','uk funky','vapor trap','vintage italian soundtrack','violao','water','workout product','world','world worship','worship','ye ye'],\n",
    "            1990: ['21st century classical','a cappella','acousmatic','afrobeat','afropop','alabama indie','alabama metal','alternative roots rock','ambient industrial','american post-rock','american shoegaze','anime','anime score','anthem emo','appalachian folk','arab groove','argentine indie','argentine rock','art punk','athens indie','atmosphere','auckland indie','australian post-punk','australian psych','australian talent show','avant-garde','avant-garde jazz','background music','bay area indie','beach house','beach music','beatdown','bebop','black thrash','bluegrass','bluegrass gospel','blues','blues band','bmore','bolero','boogaloo','bossa nova','boston punk','brazilian indie','brazilian jazz','brazilian metal','brazilian rock','brazilian thrash metal','brega','brighton indie','bristol indie','british alternative rock','british contemporary classical','british experimental','british folk','british jazz','british post-rock','broken beat','brutal death metal',\"canadian children's music\",'canadian folk','canadian garage rock','canadian indie','canadian pop punk','canadian post-rock','canadian psychedelic','canadian punk','cancion melodica','canterbury scene','cartoon','cello','celtic punk','chamber psych','chanson','chanson quebecois','chicago blues','chicago hardcore','chicago indie','chicago punk',\"children's folk\",\"children's music\",'chill lounge','christchurch indie','christian hardcore','christian indie','christian metal','christian punk','christian uplift','christmas instrumental','cincinnati indie','classic cantopop','classic colombian pop','classic garage rock','classic italian pop','classic mandopop','classic persian pop','classic psychedelic rock','classic soundtrack','classic venezuelan pop','classical','classical performance','compositional ambient','contemporary classical','contemporary post-bop','cool jazz','corrosion','cosmic american','cosmic post-rock','country boogie','crossover thrash','cymraeg','dance-punk','danish pop rock','dark cabaret','dc hardcore','dc indie',\"death 'n' roll\",'death metal','deathcore','deathgrass','deathgrind','deep classic garage rock','deep new americana','deep soul house','deep southern soul','delta blues','denver indie','desi hip hop','desi pop','detroit techno','dixieland','doom metal','dreamgaze','dreamo','drill and bass','dundee indie','dunedin indie','dunedin sound','e6fi','early us punk','easy listening','electro-industrial','emo punk','emocore','ethio-jazz','exotica','experimental','float house','florida death metal','focus','forro','fort worth indie','fourth world','freakbeat','free improvisation','free jazz','french indie pop','french indietronica','french rock','futurepop','gainesville indie','garage pop','garage psych','garage punk','garage punk blues','geek rock','german contemporary classical','gospel singers','gothenburg metal','gothic metal','gothic post-punk','grave wave','gruperas inmortales','hammond organ','hard bop','hardcore','hardcore punk','hawaiian indie','horror punk','houston rap','idaho indie','indie garage rock','indiecoustica','indorock','instrumental bluegrass','instrumental funk','instrumental post-rock','instrumental rock','instrumental soul','intelligent dance music','irish rebel song','israeli pop','italian contemporary classical','italian progressive rock','japanese classical','japanese soundtrack','jazz','jazz clarinet','jazz guitar','jazz organ','jazz piano','jazz trio','jazz vibraphone','jovem guarda','kent indie','kingston on indie','kiwi rock','knoxville indie','krautrock','latin alternative','latin jazz','latin metal','latin rock','lawrence ks indie','library music','london on indie','louisville indie','math rock','medway sound','melodic death metal','melodic hardcore','melodic metal','melodic metalcore','memphis americana','metal guitar','metalcore','metropopolis','mexican electronic','mexican hip hop','mexican rock','mexican rock-and-roll','michigan indie','microhouse','microtonal','minimal tech house','minimal techno','minimal wave','mod revival','modern blues rock','modern ska punk','mpb','musique concrete','nederpop','neo classical metal','neo-classical','neo-psychedelic','neo-synthpop','neue deutsche todeskunst','neue deutsche welle','new french touch','new orleans jazz','nl folk','no wave','noise punk','noise rock','northern irish indie','northern soul','nu-cumbia','nyhc','nz indie','nz pop','nz singer-songwriter','ohio indie','old school uk hip hop','old-time','olympia wa indie','ontario indie','orchestra','orgcore','outsider','outsider house','p funk','palm desert scene','perreo','pet calming','philly indie','pittsburgh indie','pop romantico','post-disco soul','post-doom metal','post-metal','post-rock','power metal','power-pop punk','progressive bluegrass','progressive jazz fusion','progressive metal','progressive post-hardcore','proto-rap','proto-techno','psychedelic blues-rock','psychedelic punk','psychobilly','pub rock','punk blues','queercore',  'ranchera','rap latina','rare groove','reading indie','reggaeton flow','rhode island indie','riot grrrl','rock nacional','roots worship','russian chanson','russian pop','russian punk','russian rock','salsa puertorriquena','samba','san diego indie','screamo','serialism','sheffield indie','shibuya-kei','shred','skiffle','sludge metal','smooth soul','song poem','soul jazz','soundtrack','south african jazz','space rock','spanish rock','spiritual jazz','spytrack','steampunk','stomp pop','stoner metal','straight edge','stride','surf music','swamp pop','swedish death metal','swedish jazz','swedish metal','swedish prog','symphonic power metal','synth punk','techno','thai pop','thrash core','torch song','traditional blues','traditional ska','trap espanol','trap queen','trash rock','triangle indie','twee pop','velha guarda','viking metal','vintage chinese pop','vintage italian soundtrack','vintage jazz','violao','violin','virginia punk','voidgaze','washington indie','western mass indie','western swing','ye ye','yodeling','york indie','zeuhl','zolo']\n",
    "           }"
   ]
  },
  {
   "cell_type": "code",
   "execution_count": 5,
   "metadata": {},
   "outputs": [],
   "source": [
    "def separate_decades(d):\n",
    "    lst = [v for v in d.values()]\n",
    "    return tuple(lst)\n",
    "        "
   ]
  },
  {
   "cell_type": "code",
   "execution_count": 6,
   "metadata": {},
   "outputs": [],
   "source": [
    "d_00, d_10, d_60, d_70, d_80, d_90 = separate_decades(genre_d)"
   ]
  },
  {
   "cell_type": "markdown",
   "metadata": {},
   "source": [
    "## Count of Genres Per Decade"
   ]
  },
  {
   "cell_type": "code",
   "execution_count": 11,
   "metadata": {},
   "outputs": [
    {
     "data": {
      "text/plain": [
       "[174, 250, 288, 369, 455, 569]"
      ]
     },
     "execution_count": 11,
     "metadata": {},
     "output_type": "execute_result"
    }
   ],
   "source": [
    "genre_dec_lst = []\n",
    "for k, v in sorted(genre_d.items()):\n",
    "#     print(f'{k}: {len(v)}')\n",
    "    genre_dec_lst.append(len(v))\n",
    "    \n",
    "genre_dec_lst"
   ]
  },
  {
   "cell_type": "code",
   "execution_count": 15,
   "metadata": {},
   "outputs": [
    {
     "data": {
      "image/png": "[encoded data removed]",
      "text/plain": [
       "<Figure size 432x288 with 1 Axes>"
      ]
     },
     "metadata": {
      "needs_background": "light"
     },
     "output_type": "display_data"
    }
   ],
   "source": [
    "x = np.arange(1960, 2020, 10)\n",
    "plt.plot(x, genre_dec_lst);"
   ]
  },
  {
   "cell_type": "markdown",
   "metadata": {},
   "source": [
    "### Table Shapes"
   ]
  },
  {
   "cell_type": "code",
   "execution_count": 8,
   "metadata": {},
   "outputs": [
    {
     "name": "stdout",
     "output_type": "stream",
     "text": [
      "1960:  (8642, 19)\n",
      "1970:  (7766, 19)\n",
      "1980:  (6908, 19)\n",
      "1990:  (5520, 19)\n",
      "2000:  (5872, 19)\n",
      "2010:  (6398, 19)\n"
     ]
    }
   ],
   "source": [
    "\n",
    "print('1960: ',df_60.shape)\n",
    "print('1970: ',df_70.shape)\n",
    "print('1980: ',df_80.shape)\n",
    "print('1990: ',df_90.shape)\n",
    "print('2000: ',df_00.shape)\n",
    "print('2010: ',df_10.shape)"
   ]
  },
  {
   "cell_type": "code",
   "execution_count": 37,
   "metadata": {
    "scrolled": true
   },
   "outputs": [
    {
     "data": {
      "text/html": [
       "<div>\n",
       "<style scoped>\n",
       "    .dataframe tbody tr th:only-of-type {\n",
       "        vertical-align: middle;\n",
       "    }\n",
       "\n",
       "    .dataframe tbody tr th {\n",
       "        vertical-align: top;\n",
       "    }\n",
       "\n",
       "    .dataframe thead th {\n",
       "        text-align: right;\n",
       "    }\n",
       "</style>\n",
       "<table border=\"1\" class=\"dataframe\">\n",
       "  <thead>\n",
       "    <tr style=\"text-align: right;\">\n",
       "      <th></th>\n",
       "      <th>track</th>\n",
       "      <th>artist</th>\n",
       "      <th>uri</th>\n",
       "      <th>danceability</th>\n",
       "      <th>energy</th>\n",
       "      <th>key</th>\n",
       "      <th>loudness</th>\n",
       "      <th>mode</th>\n",
       "      <th>speechiness</th>\n",
       "      <th>acousticness</th>\n",
       "      <th>instrumentalness</th>\n",
       "      <th>liveness</th>\n",
       "      <th>valence</th>\n",
       "      <th>tempo</th>\n",
       "      <th>duration_ms</th>\n",
       "      <th>time_signature</th>\n",
       "      <th>chorus_hit</th>\n",
       "      <th>sections</th>\n",
       "      <th>target</th>\n",
       "    </tr>\n",
       "  </thead>\n",
       "  <tbody>\n",
       "    <tr>\n",
       "      <th>0</th>\n",
       "      <td>Wild Things</td>\n",
       "      <td>Alessia Cara</td>\n",
       "      <td>spotify:track:2ZyuwVvV6Z3XJaXIFbspeE</td>\n",
       "      <td>0.741</td>\n",
       "      <td>0.626</td>\n",
       "      <td>1</td>\n",
       "      <td>-4.826</td>\n",
       "      <td>0</td>\n",
       "      <td>0.0886</td>\n",
       "      <td>0.02000</td>\n",
       "      <td>0.000</td>\n",
       "      <td>0.0828</td>\n",
       "      <td>0.706</td>\n",
       "      <td>108.029</td>\n",
       "      <td>188493</td>\n",
       "      <td>4</td>\n",
       "      <td>41.18681</td>\n",
       "      <td>10</td>\n",
       "      <td>1</td>\n",
       "    </tr>\n",
       "    <tr>\n",
       "      <th>1</th>\n",
       "      <td>Surfboard</td>\n",
       "      <td>Esquivel!</td>\n",
       "      <td>spotify:track:61APOtq25SCMuK0V5w2Kgp</td>\n",
       "      <td>0.447</td>\n",
       "      <td>0.247</td>\n",
       "      <td>5</td>\n",
       "      <td>-14.661</td>\n",
       "      <td>0</td>\n",
       "      <td>0.0346</td>\n",
       "      <td>0.87100</td>\n",
       "      <td>0.814</td>\n",
       "      <td>0.0946</td>\n",
       "      <td>0.250</td>\n",
       "      <td>155.489</td>\n",
       "      <td>176880</td>\n",
       "      <td>3</td>\n",
       "      <td>33.18083</td>\n",
       "      <td>9</td>\n",
       "      <td>0</td>\n",
       "    </tr>\n",
       "    <tr>\n",
       "      <th>2</th>\n",
       "      <td>Love Someone</td>\n",
       "      <td>Lukas Graham</td>\n",
       "      <td>spotify:track:2JqnpexlO9dmvjUMCaLCLJ</td>\n",
       "      <td>0.550</td>\n",
       "      <td>0.415</td>\n",
       "      <td>9</td>\n",
       "      <td>-6.557</td>\n",
       "      <td>0</td>\n",
       "      <td>0.0520</td>\n",
       "      <td>0.16100</td>\n",
       "      <td>0.000</td>\n",
       "      <td>0.1080</td>\n",
       "      <td>0.274</td>\n",
       "      <td>172.065</td>\n",
       "      <td>205463</td>\n",
       "      <td>4</td>\n",
       "      <td>44.89147</td>\n",
       "      <td>9</td>\n",
       "      <td>1</td>\n",
       "    </tr>\n",
       "    <tr>\n",
       "      <th>3</th>\n",
       "      <td>Music To My Ears (feat. Tory Lanez)</td>\n",
       "      <td>Keys N Krates</td>\n",
       "      <td>spotify:track:0cjfLhk8WJ3etPTCseKXtk</td>\n",
       "      <td>0.502</td>\n",
       "      <td>0.648</td>\n",
       "      <td>0</td>\n",
       "      <td>-5.698</td>\n",
       "      <td>0</td>\n",
       "      <td>0.0527</td>\n",
       "      <td>0.00513</td>\n",
       "      <td>0.000</td>\n",
       "      <td>0.2040</td>\n",
       "      <td>0.291</td>\n",
       "      <td>91.837</td>\n",
       "      <td>193043</td>\n",
       "      <td>4</td>\n",
       "      <td>29.52521</td>\n",
       "      <td>7</td>\n",
       "      <td>0</td>\n",
       "    </tr>\n",
       "    <tr>\n",
       "      <th>4</th>\n",
       "      <td>Juju On That Beat (TZ Anthem)</td>\n",
       "      <td>Zay Hilfigerrr &amp; Zayion McCall</td>\n",
       "      <td>spotify:track:1lItf5ZXJc1by9SbPeljFd</td>\n",
       "      <td>0.807</td>\n",
       "      <td>0.887</td>\n",
       "      <td>1</td>\n",
       "      <td>-3.892</td>\n",
       "      <td>1</td>\n",
       "      <td>0.2750</td>\n",
       "      <td>0.00381</td>\n",
       "      <td>0.000</td>\n",
       "      <td>0.3910</td>\n",
       "      <td>0.780</td>\n",
       "      <td>160.517</td>\n",
       "      <td>144244</td>\n",
       "      <td>4</td>\n",
       "      <td>24.99199</td>\n",
       "      <td>8</td>\n",
       "      <td>1</td>\n",
       "    </tr>\n",
       "  </tbody>\n",
       "</table>\n",
       "</div>"
      ],
      "text/plain": [
       "                                 track                          artist  \\\n",
       "0                          Wild Things                    Alessia Cara   \n",
       "1                            Surfboard                       Esquivel!   \n",
       "2                         Love Someone                    Lukas Graham   \n",
       "3  Music To My Ears (feat. Tory Lanez)                   Keys N Krates   \n",
       "4        Juju On That Beat (TZ Anthem)  Zay Hilfigerrr & Zayion McCall   \n",
       "\n",
       "                                    uri  danceability  energy  key  loudness  \\\n",
       "0  spotify:track:2ZyuwVvV6Z3XJaXIFbspeE         0.741   0.626    1    -4.826   \n",
       "1  spotify:track:61APOtq25SCMuK0V5w2Kgp         0.447   0.247    5   -14.661   \n",
       "2  spotify:track:2JqnpexlO9dmvjUMCaLCLJ         0.550   0.415    9    -6.557   \n",
       "3  spotify:track:0cjfLhk8WJ3etPTCseKXtk         0.502   0.648    0    -5.698   \n",
       "4  spotify:track:1lItf5ZXJc1by9SbPeljFd         0.807   0.887    1    -3.892   \n",
       "\n",
       "   mode  speechiness  acousticness  instrumentalness  liveness  valence  \\\n",
       "0     0       0.0886       0.02000             0.000    0.0828    0.706   \n",
       "1     0       0.0346       0.87100             0.814    0.0946    0.250   \n",
       "2     0       0.0520       0.16100             0.000    0.1080    0.274   \n",
       "3     0       0.0527       0.00513             0.000    0.2040    0.291   \n",
       "4     1       0.2750       0.00381             0.000    0.3910    0.780   \n",
       "\n",
       "     tempo  duration_ms  time_signature  chorus_hit  sections  target  \n",
       "0  108.029       188493               4    41.18681        10       1  \n",
       "1  155.489       176880               3    33.18083         9       0  \n",
       "2  172.065       205463               4    44.89147         9       1  \n",
       "3   91.837       193043               4    29.52521         7       0  \n",
       "4  160.517       144244               4    24.99199         8       1  "
      ]
     },
     "execution_count": 37,
     "metadata": {},
     "output_type": "execute_result"
    }
   ],
   "source": [
    "df_10.head()"
   ]
  },
  {
   "cell_type": "code",
   "execution_count": 99,
   "metadata": {},
   "outputs": [
    {
     "data": {
      "image/png": "[encoded data removed]",
      "text/plain": [
       "<Figure size 1440x1440 with 6 Axes>"
      ]
     },
     "metadata": {
      "needs_background": "light"
     },
     "output_type": "display_data"
    }
   ],
   "source": [
    "fig, ax = plt.subplots(6,figsize=(20, 20))\n",
    "\n",
    "ax[0].hist(df_10['tempo'], bins=100)\n",
    "ax[0].set_title('10')\n",
    "ax[1].hist(df_00['tempo'], bins=100)\n",
    "ax[1].set_title('00')\n",
    "ax[2].hist(df_90['tempo'], bins=100)\n",
    "ax[2].set_title('90')\n",
    "ax[3].hist(df_80['tempo'], bins=100)\n",
    "ax[3].set_title('80')\n",
    "ax[4].hist(df_70['tempo'], bins=100)\n",
    "ax[4].set_title('70')\n",
    "ax[5].hist(df_60['tempo'], bins=100)\n",
    "ax[5].set_title('60')\n",
    "\n",
    "\n",
    "plt.tight_layout()"
   ]
  },
  {
   "cell_type": "code",
   "execution_count": 102,
   "metadata": {},
   "outputs": [],
   "source": [
    "data_ = df_10['tempo']"
   ]
  },
  {
   "cell_type": "code",
   "execution_count": 100,
   "metadata": {},
   "outputs": [],
   "source": [
    "def one_dim_scatterplot(data, ax, jitter=0.2, **options):\n",
    "    if jitter:\n",
    "        jitter = np.random.uniform(-jitter, jitter, size=data.shape)\n",
    "    else:\n",
    "        jitter = np.repeat(0.0, len(data))\n",
    "    ax.scatter(data, jitter, **options)\n",
    "    ax.yaxis.set_ticklabels([])\n",
    "    ax.set_ylim([-1, 1])\n",
    "    "
   ]
  },
  {
   "cell_type": "code",
   "execution_count": 103,
   "metadata": {},
   "outputs": [
    {
     "ename": "ValueError",
     "evalue": "size does not match the broadcast shape of the parameters. 25, (25,), (6398,)",
     "output_type": "error",
     "traceback": [
      "\u001b[0;31m----------------------------------------------------------------------\u001b[0m",
      "\u001b[0;31mValueError\u001b[0m                           Traceback (most recent call last)",
      "\u001b[0;32m<ipython-input-103-bdeb8d972136>\u001b[0m in \u001b[0;36m<module>\u001b[0;34m\u001b[0m\n\u001b[1;32m      4\u001b[0m \u001b[0msample_sizes\u001b[0m \u001b[0;34m=\u001b[0m \u001b[0;34m[\u001b[0m\u001b[0;36m25\u001b[0m\u001b[0;34m,\u001b[0m \u001b[0;36m50\u001b[0m\u001b[0;34m,\u001b[0m \u001b[0;36m75\u001b[0m\u001b[0;34m,\u001b[0m \u001b[0;36m100\u001b[0m\u001b[0;34m,\u001b[0m \u001b[0;36m125\u001b[0m\u001b[0;34m]\u001b[0m\u001b[0;34m\u001b[0m\u001b[0;34m\u001b[0m\u001b[0m\n\u001b[1;32m      5\u001b[0m \u001b[0;32mfor\u001b[0m \u001b[0msample_size\u001b[0m\u001b[0;34m,\u001b[0m \u001b[0max\u001b[0m \u001b[0;32min\u001b[0m \u001b[0mzip\u001b[0m\u001b[0;34m(\u001b[0m\u001b[0msample_sizes\u001b[0m\u001b[0;34m,\u001b[0m \u001b[0maxs\u001b[0m\u001b[0;34m.\u001b[0m\u001b[0mflatten\u001b[0m\u001b[0;34m(\u001b[0m\u001b[0;34m)\u001b[0m\u001b[0;34m)\u001b[0m\u001b[0;34m:\u001b[0m\u001b[0;34m\u001b[0m\u001b[0;34m\u001b[0m\u001b[0m\n\u001b[0;32m----> 6\u001b[0;31m     \u001b[0msample\u001b[0m \u001b[0;34m=\u001b[0m \u001b[0mpopulation\u001b[0m\u001b[0;34m.\u001b[0m\u001b[0mrvs\u001b[0m\u001b[0;34m(\u001b[0m\u001b[0msample_size\u001b[0m\u001b[0;34m)\u001b[0m\u001b[0;34m\u001b[0m\u001b[0;34m\u001b[0m\u001b[0m\n\u001b[0m\u001b[1;32m      7\u001b[0m     \u001b[0mone_dim_scatterplot\u001b[0m\u001b[0;34m(\u001b[0m\u001b[0msample\u001b[0m\u001b[0;34m,\u001b[0m \u001b[0max\u001b[0m\u001b[0;34m,\u001b[0m \u001b[0ms\u001b[0m\u001b[0;34m=\u001b[0m\u001b[0;36m25\u001b[0m\u001b[0;34m,\u001b[0m \u001b[0mc\u001b[0m\u001b[0;34m=\u001b[0m\u001b[0;34m\"black\"\u001b[0m\u001b[0;34m)\u001b[0m\u001b[0;34m\u001b[0m\u001b[0;34m\u001b[0m\u001b[0m\n\u001b[1;32m      8\u001b[0m \u001b[0;34m\u001b[0m\u001b[0m\n",
      "\u001b[0;32m/opt/anaconda3/lib/python3.7/site-packages/scipy/stats/_distn_infrastructure.py\u001b[0m in \u001b[0;36mrvs\u001b[0;34m(self, size, random_state)\u001b[0m\n\u001b[1;32m    454\u001b[0m         \u001b[0mkwds\u001b[0m \u001b[0;34m=\u001b[0m \u001b[0mself\u001b[0m\u001b[0;34m.\u001b[0m\u001b[0mkwds\u001b[0m\u001b[0;34m.\u001b[0m\u001b[0mcopy\u001b[0m\u001b[0;34m(\u001b[0m\u001b[0;34m)\u001b[0m\u001b[0;34m\u001b[0m\u001b[0;34m\u001b[0m\u001b[0m\n\u001b[1;32m    455\u001b[0m         \u001b[0mkwds\u001b[0m\u001b[0;34m.\u001b[0m\u001b[0mupdate\u001b[0m\u001b[0;34m(\u001b[0m\u001b[0;34m{\u001b[0m\u001b[0;34m'size'\u001b[0m\u001b[0;34m:\u001b[0m \u001b[0msize\u001b[0m\u001b[0;34m,\u001b[0m \u001b[0;34m'random_state'\u001b[0m\u001b[0;34m:\u001b[0m \u001b[0mrandom_state\u001b[0m\u001b[0;34m}\u001b[0m\u001b[0;34m)\u001b[0m\u001b[0;34m\u001b[0m\u001b[0;34m\u001b[0m\u001b[0m\n\u001b[0;32m--> 456\u001b[0;31m         \u001b[0;32mreturn\u001b[0m \u001b[0mself\u001b[0m\u001b[0;34m.\u001b[0m\u001b[0mdist\u001b[0m\u001b[0;34m.\u001b[0m\u001b[0mrvs\u001b[0m\u001b[0;34m(\u001b[0m\u001b[0;34m*\u001b[0m\u001b[0mself\u001b[0m\u001b[0;34m.\u001b[0m\u001b[0margs\u001b[0m\u001b[0;34m,\u001b[0m \u001b[0;34m**\u001b[0m\u001b[0mkwds\u001b[0m\u001b[0;34m)\u001b[0m\u001b[0;34m\u001b[0m\u001b[0;34m\u001b[0m\u001b[0m\n\u001b[0m\u001b[1;32m    457\u001b[0m \u001b[0;34m\u001b[0m\u001b[0m\n\u001b[1;32m    458\u001b[0m     \u001b[0;32mdef\u001b[0m \u001b[0msf\u001b[0m\u001b[0;34m(\u001b[0m\u001b[0mself\u001b[0m\u001b[0;34m,\u001b[0m \u001b[0mx\u001b[0m\u001b[0;34m)\u001b[0m\u001b[0;34m:\u001b[0m\u001b[0;34m\u001b[0m\u001b[0;34m\u001b[0m\u001b[0m\n",
      "\u001b[0;32m/opt/anaconda3/lib/python3.7/site-packages/scipy/stats/_distn_infrastructure.py\u001b[0m in \u001b[0;36mrvs\u001b[0;34m(self, *args, **kwds)\u001b[0m\n\u001b[1;32m    974\u001b[0m         \u001b[0mdiscrete\u001b[0m \u001b[0;34m=\u001b[0m \u001b[0mkwds\u001b[0m\u001b[0;34m.\u001b[0m\u001b[0mpop\u001b[0m\u001b[0;34m(\u001b[0m\u001b[0;34m'discrete'\u001b[0m\u001b[0;34m,\u001b[0m \u001b[0;32mNone\u001b[0m\u001b[0;34m)\u001b[0m\u001b[0;34m\u001b[0m\u001b[0;34m\u001b[0m\u001b[0m\n\u001b[1;32m    975\u001b[0m         \u001b[0mrndm\u001b[0m \u001b[0;34m=\u001b[0m \u001b[0mkwds\u001b[0m\u001b[0;34m.\u001b[0m\u001b[0mpop\u001b[0m\u001b[0;34m(\u001b[0m\u001b[0;34m'random_state'\u001b[0m\u001b[0;34m,\u001b[0m \u001b[0;32mNone\u001b[0m\u001b[0;34m)\u001b[0m\u001b[0;34m\u001b[0m\u001b[0;34m\u001b[0m\u001b[0m\n\u001b[0;32m--> 976\u001b[0;31m         \u001b[0margs\u001b[0m\u001b[0;34m,\u001b[0m \u001b[0mloc\u001b[0m\u001b[0;34m,\u001b[0m \u001b[0mscale\u001b[0m\u001b[0;34m,\u001b[0m \u001b[0msize\u001b[0m \u001b[0;34m=\u001b[0m \u001b[0mself\u001b[0m\u001b[0;34m.\u001b[0m\u001b[0m_parse_args_rvs\u001b[0m\u001b[0;34m(\u001b[0m\u001b[0;34m*\u001b[0m\u001b[0margs\u001b[0m\u001b[0;34m,\u001b[0m \u001b[0;34m**\u001b[0m\u001b[0mkwds\u001b[0m\u001b[0;34m)\u001b[0m\u001b[0;34m\u001b[0m\u001b[0;34m\u001b[0m\u001b[0m\n\u001b[0m\u001b[1;32m    977\u001b[0m         \u001b[0mcond\u001b[0m \u001b[0;34m=\u001b[0m \u001b[0mlogical_and\u001b[0m\u001b[0;34m(\u001b[0m\u001b[0mself\u001b[0m\u001b[0;34m.\u001b[0m\u001b[0m_argcheck\u001b[0m\u001b[0;34m(\u001b[0m\u001b[0;34m*\u001b[0m\u001b[0margs\u001b[0m\u001b[0;34m)\u001b[0m\u001b[0;34m,\u001b[0m \u001b[0;34m(\u001b[0m\u001b[0mscale\u001b[0m \u001b[0;34m>=\u001b[0m \u001b[0;36m0\u001b[0m\u001b[0;34m)\u001b[0m\u001b[0;34m)\u001b[0m\u001b[0;34m\u001b[0m\u001b[0;34m\u001b[0m\u001b[0m\n\u001b[1;32m    978\u001b[0m         \u001b[0;32mif\u001b[0m \u001b[0;32mnot\u001b[0m \u001b[0mnp\u001b[0m\u001b[0;34m.\u001b[0m\u001b[0mall\u001b[0m\u001b[0;34m(\u001b[0m\u001b[0mcond\u001b[0m\u001b[0;34m)\u001b[0m\u001b[0;34m:\u001b[0m\u001b[0;34m\u001b[0m\u001b[0;34m\u001b[0m\u001b[0m\n",
      "\u001b[0;32m<string>\u001b[0m in \u001b[0;36m_parse_args_rvs\u001b[0;34m(self, loc, scale, size)\u001b[0m\n",
      "\u001b[0;32m/opt/anaconda3/lib/python3.7/site-packages/scipy/stats/_distn_infrastructure.py\u001b[0m in \u001b[0;36m_argcheck_rvs\u001b[0;34m(self, *args, **kwargs)\u001b[0m\n\u001b[1;32m    859\u001b[0m         \u001b[0;32mif\u001b[0m \u001b[0;32mnot\u001b[0m \u001b[0mok\u001b[0m\u001b[0;34m:\u001b[0m\u001b[0;34m\u001b[0m\u001b[0;34m\u001b[0m\u001b[0m\n\u001b[1;32m    860\u001b[0m             raise ValueError(\"size does not match the broadcast shape of \"\n\u001b[0;32m--> 861\u001b[0;31m                              \"the parameters. %s, %s, %s\" % (size, size_, bcast_shape))\n\u001b[0m\u001b[1;32m    862\u001b[0m \u001b[0;34m\u001b[0m\u001b[0m\n\u001b[1;32m    863\u001b[0m         \u001b[0mparam_bcast\u001b[0m \u001b[0;34m=\u001b[0m \u001b[0mall_bcast\u001b[0m\u001b[0;34m[\u001b[0m\u001b[0;34m:\u001b[0m\u001b[0;34m-\u001b[0m\u001b[0;36m2\u001b[0m\u001b[0;34m]\u001b[0m\u001b[0;34m\u001b[0m\u001b[0;34m\u001b[0m\u001b[0m\n",
      "\u001b[0;31mValueError\u001b[0m: size does not match the broadcast shape of the parameters. 25, (25,), (6398,)"
     ]
    },
    {
     "data": {
      "image/png": "[encoded data removed]",
      "text/plain": [
       "<Figure size 1152x432 with 5 Axes>"
      ]
     },
     "metadata": {
      "needs_background": "light"
     },
     "output_type": "display_data"
    }
   ],
   "source": [
    "fig, axs = plt.subplots(5, figsize=(16, 6), sharex=True)\n",
    "\n",
    "population = stats.norm(data_)\n",
    "sample_sizes = [25, 50, 75, 100, 125]\n",
    "for sample_size, ax in zip(sample_sizes, axs.flatten()):\n",
    "    sample = population.rvs(sample_size)\n",
    "    one_dim_scatterplot(sample, ax, s=25, c=\"black\")\n",
    "    \n",
    "_ = fig.suptitle(\"Samples from a Very Non-Normal Population\", fontsize=20)"
   ]
  },
  {
   "cell_type": "code",
   "execution_count": 111,
   "metadata": {},
   "outputs": [],
   "source": [
    "col_list = ['danceability', 'energy', 'key', 'loudness', 'mode', 'speechiness', 'acousticness', 'instrumentalness', 'liveness', 'valence', 'tempo', 'duration_ms', 'time_signature', 'chorus_hit', 'sections']"
   ]
  },
  {
   "cell_type": "code",
   "execution_count": 112,
   "metadata": {},
   "outputs": [],
   "source": [
    "test_df = df_10[col_list]"
   ]
  },
  {
   "cell_type": "code",
   "execution_count": 113,
   "metadata": {},
   "outputs": [
    {
     "data": {
      "text/html": [
       "<div>\n",
       "<style scoped>\n",
       "    .dataframe tbody tr th:only-of-type {\n",
       "        vertical-align: middle;\n",
       "    }\n",
       "\n",
       "    .dataframe tbody tr th {\n",
       "        vertical-align: top;\n",
       "    }\n",
       "\n",
       "    .dataframe thead th {\n",
       "        text-align: right;\n",
       "    }\n",
       "</style>\n",
       "<table border=\"1\" class=\"dataframe\">\n",
       "  <thead>\n",
       "    <tr style=\"text-align: right;\">\n",
       "      <th></th>\n",
       "      <th>danceability</th>\n",
       "      <th>energy</th>\n",
       "      <th>key</th>\n",
       "      <th>loudness</th>\n",
       "      <th>mode</th>\n",
       "      <th>speechiness</th>\n",
       "      <th>acousticness</th>\n",
       "      <th>instrumentalness</th>\n",
       "      <th>liveness</th>\n",
       "      <th>valence</th>\n",
       "      <th>tempo</th>\n",
       "      <th>duration_ms</th>\n",
       "      <th>time_signature</th>\n",
       "      <th>chorus_hit</th>\n",
       "      <th>sections</th>\n",
       "    </tr>\n",
       "  </thead>\n",
       "  <tbody>\n",
       "    <tr>\n",
       "      <th>0</th>\n",
       "      <td>0.741</td>\n",
       "      <td>0.626</td>\n",
       "      <td>1</td>\n",
       "      <td>-4.826</td>\n",
       "      <td>0</td>\n",
       "      <td>0.0886</td>\n",
       "      <td>0.02000</td>\n",
       "      <td>0.000000</td>\n",
       "      <td>0.0828</td>\n",
       "      <td>0.7060</td>\n",
       "      <td>108.029</td>\n",
       "      <td>188493</td>\n",
       "      <td>4</td>\n",
       "      <td>41.18681</td>\n",
       "      <td>10</td>\n",
       "    </tr>\n",
       "    <tr>\n",
       "      <th>1</th>\n",
       "      <td>0.447</td>\n",
       "      <td>0.247</td>\n",
       "      <td>5</td>\n",
       "      <td>-14.661</td>\n",
       "      <td>0</td>\n",
       "      <td>0.0346</td>\n",
       "      <td>0.87100</td>\n",
       "      <td>0.814000</td>\n",
       "      <td>0.0946</td>\n",
       "      <td>0.2500</td>\n",
       "      <td>155.489</td>\n",
       "      <td>176880</td>\n",
       "      <td>3</td>\n",
       "      <td>33.18083</td>\n",
       "      <td>9</td>\n",
       "    </tr>\n",
       "    <tr>\n",
       "      <th>2</th>\n",
       "      <td>0.550</td>\n",
       "      <td>0.415</td>\n",
       "      <td>9</td>\n",
       "      <td>-6.557</td>\n",
       "      <td>0</td>\n",
       "      <td>0.0520</td>\n",
       "      <td>0.16100</td>\n",
       "      <td>0.000000</td>\n",
       "      <td>0.1080</td>\n",
       "      <td>0.2740</td>\n",
       "      <td>172.065</td>\n",
       "      <td>205463</td>\n",
       "      <td>4</td>\n",
       "      <td>44.89147</td>\n",
       "      <td>9</td>\n",
       "    </tr>\n",
       "    <tr>\n",
       "      <th>3</th>\n",
       "      <td>0.502</td>\n",
       "      <td>0.648</td>\n",
       "      <td>0</td>\n",
       "      <td>-5.698</td>\n",
       "      <td>0</td>\n",
       "      <td>0.0527</td>\n",
       "      <td>0.00513</td>\n",
       "      <td>0.000000</td>\n",
       "      <td>0.2040</td>\n",
       "      <td>0.2910</td>\n",
       "      <td>91.837</td>\n",
       "      <td>193043</td>\n",
       "      <td>4</td>\n",
       "      <td>29.52521</td>\n",
       "      <td>7</td>\n",
       "    </tr>\n",
       "    <tr>\n",
       "      <th>4</th>\n",
       "      <td>0.807</td>\n",
       "      <td>0.887</td>\n",
       "      <td>1</td>\n",
       "      <td>-3.892</td>\n",
       "      <td>1</td>\n",
       "      <td>0.2750</td>\n",
       "      <td>0.00381</td>\n",
       "      <td>0.000000</td>\n",
       "      <td>0.3910</td>\n",
       "      <td>0.7800</td>\n",
       "      <td>160.517</td>\n",
       "      <td>144244</td>\n",
       "      <td>4</td>\n",
       "      <td>24.99199</td>\n",
       "      <td>8</td>\n",
       "    </tr>\n",
       "    <tr>\n",
       "      <th>...</th>\n",
       "      <td>...</td>\n",
       "      <td>...</td>\n",
       "      <td>...</td>\n",
       "      <td>...</td>\n",
       "      <td>...</td>\n",
       "      <td>...</td>\n",
       "      <td>...</td>\n",
       "      <td>...</td>\n",
       "      <td>...</td>\n",
       "      <td>...</td>\n",
       "      <td>...</td>\n",
       "      <td>...</td>\n",
       "      <td>...</td>\n",
       "      <td>...</td>\n",
       "      <td>...</td>\n",
       "    </tr>\n",
       "    <tr>\n",
       "      <th>6393</th>\n",
       "      <td>0.172</td>\n",
       "      <td>0.358</td>\n",
       "      <td>9</td>\n",
       "      <td>-14.430</td>\n",
       "      <td>1</td>\n",
       "      <td>0.0342</td>\n",
       "      <td>0.88600</td>\n",
       "      <td>0.966000</td>\n",
       "      <td>0.3140</td>\n",
       "      <td>0.0361</td>\n",
       "      <td>72.272</td>\n",
       "      <td>150857</td>\n",
       "      <td>4</td>\n",
       "      <td>24.30824</td>\n",
       "      <td>7</td>\n",
       "    </tr>\n",
       "    <tr>\n",
       "      <th>6394</th>\n",
       "      <td>0.910</td>\n",
       "      <td>0.366</td>\n",
       "      <td>1</td>\n",
       "      <td>-9.954</td>\n",
       "      <td>1</td>\n",
       "      <td>0.0941</td>\n",
       "      <td>0.09960</td>\n",
       "      <td>0.000000</td>\n",
       "      <td>0.2610</td>\n",
       "      <td>0.7400</td>\n",
       "      <td>119.985</td>\n",
       "      <td>152000</td>\n",
       "      <td>4</td>\n",
       "      <td>32.53856</td>\n",
       "      <td>8</td>\n",
       "    </tr>\n",
       "    <tr>\n",
       "      <th>6395</th>\n",
       "      <td>0.719</td>\n",
       "      <td>0.804</td>\n",
       "      <td>10</td>\n",
       "      <td>-4.581</td>\n",
       "      <td>1</td>\n",
       "      <td>0.0355</td>\n",
       "      <td>0.01320</td>\n",
       "      <td>0.000003</td>\n",
       "      <td>0.1390</td>\n",
       "      <td>0.6050</td>\n",
       "      <td>119.999</td>\n",
       "      <td>227760</td>\n",
       "      <td>4</td>\n",
       "      <td>20.73371</td>\n",
       "      <td>7</td>\n",
       "    </tr>\n",
       "    <tr>\n",
       "      <th>6396</th>\n",
       "      <td>0.600</td>\n",
       "      <td>0.177</td>\n",
       "      <td>7</td>\n",
       "      <td>-16.070</td>\n",
       "      <td>1</td>\n",
       "      <td>0.0561</td>\n",
       "      <td>0.98900</td>\n",
       "      <td>0.868000</td>\n",
       "      <td>0.1490</td>\n",
       "      <td>0.5600</td>\n",
       "      <td>120.030</td>\n",
       "      <td>213387</td>\n",
       "      <td>4</td>\n",
       "      <td>21.65301</td>\n",
       "      <td>14</td>\n",
       "    </tr>\n",
       "    <tr>\n",
       "      <th>6397</th>\n",
       "      <td>0.121</td>\n",
       "      <td>0.123</td>\n",
       "      <td>4</td>\n",
       "      <td>-23.025</td>\n",
       "      <td>0</td>\n",
       "      <td>0.0443</td>\n",
       "      <td>0.96400</td>\n",
       "      <td>0.696000</td>\n",
       "      <td>0.1030</td>\n",
       "      <td>0.0297</td>\n",
       "      <td>95.182</td>\n",
       "      <td>341396</td>\n",
       "      <td>4</td>\n",
       "      <td>71.05343</td>\n",
       "      <td>15</td>\n",
       "    </tr>\n",
       "  </tbody>\n",
       "</table>\n",
       "<p>6398 rows × 15 columns</p>\n",
       "</div>"
      ],
      "text/plain": [
       "      danceability  energy  key  loudness  mode  speechiness  acousticness  \\\n",
       "0            0.741   0.626    1    -4.826     0       0.0886       0.02000   \n",
       "1            0.447   0.247    5   -14.661     0       0.0346       0.87100   \n",
       "2            0.550   0.415    9    -6.557     0       0.0520       0.16100   \n",
       "3            0.502   0.648    0    -5.698     0       0.0527       0.00513   \n",
       "4            0.807   0.887    1    -3.892     1       0.2750       0.00381   \n",
       "...            ...     ...  ...       ...   ...          ...           ...   \n",
       "6393         0.172   0.358    9   -14.430     1       0.0342       0.88600   \n",
       "6394         0.910   0.366    1    -9.954     1       0.0941       0.09960   \n",
       "6395         0.719   0.804   10    -4.581     1       0.0355       0.01320   \n",
       "6396         0.600   0.177    7   -16.070     1       0.0561       0.98900   \n",
       "6397         0.121   0.123    4   -23.025     0       0.0443       0.96400   \n",
       "\n",
       "      instrumentalness  liveness  valence    tempo  duration_ms  \\\n",
       "0             0.000000    0.0828   0.7060  108.029       188493   \n",
       "1             0.814000    0.0946   0.2500  155.489       176880   \n",
       "2             0.000000    0.1080   0.2740  172.065       205463   \n",
       "3             0.000000    0.2040   0.2910   91.837       193043   \n",
       "4             0.000000    0.3910   0.7800  160.517       144244   \n",
       "...                ...       ...      ...      ...          ...   \n",
       "6393          0.966000    0.3140   0.0361   72.272       150857   \n",
       "6394          0.000000    0.2610   0.7400  119.985       152000   \n",
       "6395          0.000003    0.1390   0.6050  119.999       227760   \n",
       "6396          0.868000    0.1490   0.5600  120.030       213387   \n",
       "6397          0.696000    0.1030   0.0297   95.182       341396   \n",
       "\n",
       "      time_signature  chorus_hit  sections  \n",
       "0                  4    41.18681        10  \n",
       "1                  3    33.18083         9  \n",
       "2                  4    44.89147         9  \n",
       "3                  4    29.52521         7  \n",
       "4                  4    24.99199         8  \n",
       "...              ...         ...       ...  \n",
       "6393               4    24.30824         7  \n",
       "6394               4    32.53856         8  \n",
       "6395               4    20.73371         7  \n",
       "6396               4    21.65301        14  \n",
       "6397               4    71.05343        15  \n",
       "\n",
       "[6398 rows x 15 columns]"
      ]
     },
     "execution_count": 113,
     "metadata": {},
     "output_type": "execute_result"
    }
   ],
   "source": [
    "test_df"
   ]
  },
  {
   "cell_type": "code",
   "execution_count": null,
   "metadata": {},
   "outputs": [],
   "source": [
    "for row in test_df:\n",
    "    "
   ]
  }
 ],
 "metadata": {
  "kernelspec": {
   "display_name": "Python 3",
   "language": "python",
   "name": "python3"
  },
  "language_info": {
   "codemirror_mode": {
    "name": "ipython",
    "version": 3
   },
   "file_extension": ".py",
   "mimetype": "text/x-python",
   "name": "python",
   "nbconvert_exporter": "python",
   "pygments_lexer": "ipython3",
   "version": "3.7.6"
  }
 },
 "nbformat": 4,
 "nbformat_minor": 4
}
